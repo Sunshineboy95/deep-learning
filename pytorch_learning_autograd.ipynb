{
 "cells": [
  {
   "cell_type": "code",
   "execution_count": 36,
   "id": "19de7e71",
   "metadata": {},
   "outputs": [],
   "source": [
    "import torch as t\n",
    "from torch.autograd import Variable as V \n",
    "from matplotlib import pyplot as plt \n",
    "from IPython import display\n",
    "\n"
   ]
  },
  {
   "cell_type": "code",
   "execution_count": 37,
   "id": "f2703a2f",
   "metadata": {},
   "outputs": [
    {
     "data": {
      "text/plain": [
       "<matplotlib.collections.PathCollection at 0x7fec4a56a910>"
      ]
     },
     "execution_count": 37,
     "metadata": {},
     "output_type": "execute_result"
    },
    {
     "data": {
      "image/png": "[encoded data removed]",
      "text/plain": [
       "<Figure size 640x480 with 1 Axes>"
      ]
     },
     "metadata": {},
     "output_type": "display_data"
    }
   ],
   "source": [
    "t.manual_seed(1000)\n",
    "def get_fake_data(batch_size=8):\n",
    "    x= t.rand(batch_size,1)*20\n",
    "    y=x*2+(1+t.randn(batch_size,1))*3\n",
    "    return x,y\n",
    "\n",
    "x,y=get_fake_data()\n",
    "plt.scatter(x.squeeze().numpy(),y.squeeze().numpy())"
   ]
  },
  {
   "cell_type": "code",
   "execution_count": 38,
   "id": "e0e3c6ad",
   "metadata": {},
   "outputs": [
    {
     "name": "stdout",
     "output_type": "stream",
     "text": [
      "tensor([[0.]], requires_grad=True)\n"
     ]
    },
    {
     "ename": "AttributeError",
     "evalue": "'Tensor' object has no attribute 'gard'",
     "output_type": "error",
     "traceback": [
      "\u001b[0;31m---------------------------------------------------------------------------\u001b[0m",
      "\u001b[0;31mAttributeError\u001b[0m                            Traceback (most recent call last)",
      "Cell \u001b[0;32mIn [38], line 23\u001b[0m\n\u001b[1;32m     20\u001b[0m loss\u001b[39m.\u001b[39mbackward()\n\u001b[1;32m     22\u001b[0m \u001b[39m#更新参数\u001b[39;00m\n\u001b[0;32m---> 23\u001b[0m w\u001b[39m.\u001b[39mdata\u001b[39m.\u001b[39msub_(lr\u001b[39m*\u001b[39mw\u001b[39m.\u001b[39;49mgard\u001b[39m.\u001b[39mdata)\n\u001b[1;32m     24\u001b[0m b\u001b[39m.\u001b[39mdata\u001b[39m.\u001b[39msub_(lr\u001b[39m*\u001b[39mb\u001b[39m.\u001b[39mgard\u001b[39m.\u001b[39mdata)\n\u001b[1;32m     26\u001b[0m \u001b[39m#梯度清零\u001b[39;00m\n",
      "\u001b[0;31mAttributeError\u001b[0m: 'Tensor' object has no attribute 'gard'"
     ]
    }
   ],
   "source": [
    "#随机初始化参数\n",
    "w=V(t.rand(1,1))\n",
    "w.requires_grad_()\n",
    "b=V(t.zeros(1,1))\n",
    "b.requires_grad_()\n",
    "print(b.requires_grad_())\n",
    "\n",
    "lr=0.001\n",
    "\n",
    "for ii in range(8000):\n",
    "    x,y=get_fake_data()\n",
    "    x,y=V(x),V(y)\n",
    "\n",
    "    #forward\n",
    "    y_pred=x.mm(w)+b.expand_as(y)\n",
    "    loss=0.5*(y_pred-y)**2\n",
    "    loss=loss.sum()\n",
    "\n",
    "    #backward\n",
    "    loss.backward()\n",
    "\n",
    "    #更新参数\n",
    "    w.data.sub_(lr*w.gard.data)\n",
    "    b.data.sub_(lr*b.gard.data)\n",
    "\n",
    "    #梯度清零\n",
    "    w.gras.data.zero_()\n",
    "    b.gras.data.zero_()\n",
    "\n",
    "    if ii%1000==0:\n",
    "        display.clear_output(wait=True)\n",
    "        x=t.arange(0,20).view(-1,1)\n",
    "        y=x.mm(w.data)+b.data.expand_as(x)\n",
    "        plt.plot(x.numpy(),y.numpy())\n",
    "\n",
    "        x2,y2=get_fake_data(batch_size=20)\n",
    "        plt.scatter(x2.numpy(),y2.numpy())\n",
    "\n",
    "        plt.xlim(0.20)\n",
    "        plt.ylim(0,41)\n",
    "        plt.show()\n",
    "\n",
    "print(w.data.squeeze()[0],b.data.squeeze()[0])\n",
    "\n",
    "\n",
    "\n"
   ]
  }
 ],
 "metadata": {
  "kernelspec": {
   "display_name": "Python 3 (ipykernel)",
   "language": "python",
   "name": "python3"
  },
  "language_info": {
   "codemirror_mode": {
    "name": "ipython",
    "version": 3
   },
   "file_extension": ".py",
   "mimetype": "text/x-python",
   "name": "python",
   "nbconvert_exporter": "python",
   "pygments_lexer": "ipython3",
   "version": "3.8.15"
  },
  "vscode": {
   "interpreter": {
    "hash": "b4d69625b88f2847eb79b02e6eb3cb5d56c210b9c62c567644f6ff06f77938dd"
   }
  }
 },
 "nbformat": 4,
 "nbformat_minor": 5
}
