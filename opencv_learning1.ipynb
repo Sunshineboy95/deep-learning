{
 "cells": [
  {
   "cell_type": "code",
   "execution_count": 3,
   "id": "eaa0a084",
   "metadata": {},
   "outputs": [
    {
     "ename": "IndentationError",
     "evalue": "unexpected indent (3761832290.py, line 23)",
     "output_type": "error",
     "traceback": [
      "\u001b[0;36m  Input \u001b[0;32mIn [3]\u001b[0;36m\u001b[0m\n\u001b[0;31m    rootdir=\"/home/yg/work/calib/neican/output-2022-11-08-16-27-25/\"\u001b[0m\n\u001b[0m    ^\u001b[0m\n\u001b[0;31mIndentationError\u001b[0m\u001b[0;31m:\u001b[0m unexpected indent\n"
     ]
    }
   ],
   "source": [
    "import numpy as np\n",
    "import cv2 as cv\n",
    "\n",
    "\n",
    "img_path='/home/yg/work/calib/neican/output-2022-11-08-16-27-25/frame001.jpg'\n",
    "#threshold = 120\n",
    "\n",
    "image = cv.imread(img_path)\n",
    "# cv.imshow('image',image)\n",
    "# cv.waitKey(0)\n",
    "# cv.destroyAllWindows()\n",
    "# im = cv2.imread('/home/yg/work/calib/neican/output-2022-11-09-11-48-43/frame001.jpg')\n",
    "# cv2.imshow('img1',im)\n",
    "imgray = cv.cvtColor(image,cv.COLOR_BGR2GRAY)\n",
    "ret,thresh = cv.threshold(imgray,127,255,0)\n",
    "contour_image, contours, hierarchy = cv.findContours(thresh,cv.RETR_TREE,cv.CHAIN_APPROX_SIMPLE)\n",
    "#print(contours)\n",
    "for i in range(0,len(contours)): \n",
    "  x, y, w, h = cv2.boundingRect(contours[i])  \n",
    "  cv2.rectangle(im, (x,y), (x+w,y+h), (153,153,0), 5)\n",
    "\n",
    "newimage=image[y+2:y+h-2,x+2:x+w-2] # 先用y确定高，再用x确定宽\n",
    "    rootdir=\"/home/yg/work/calib/neican/output-2022-11-08-16-27-25/\"\n",
    "    if not os.path.isdir(rootdir):\n",
    "      os.makedirs(rootdir)\n",
    "    cv.imwrite( rootdir+str(i)+\".jpg\",newimage) \n",
    "    print (i)\n",
    "    \n",
    "cv.imshow('image',image)\n",
    "cv.waitKey(0)\n",
    "cv.destroyAllWindows()\n"
   ]
  },
  {
   "cell_type": "code",
   "execution_count": null,
   "id": "7e0043c1",
   "metadata": {},
   "outputs": [],
   "source": []
  },
  {
   "cell_type": "code",
   "execution_count": null,
   "id": "515d884a",
   "metadata": {},
   "outputs": [],
   "source": []
  },
  {
   "cell_type": "code",
   "execution_count": null,
   "id": "f978a747",
   "metadata": {},
   "outputs": [],
   "source": []
  }
 ],
 "metadata": {
  "kernelspec": {
   "display_name": "Python 3 (ipykernel)",
   "language": "python",
   "name": "python3"
  },
  "language_info": {
   "codemirror_mode": {
    "name": "ipython",
    "version": 3
   },
   "file_extension": ".py",
   "mimetype": "text/x-python",
   "name": "python",
   "nbconvert_exporter": "python",
   "pygments_lexer": "ipython3",
   "version": "3.9.12"
  }
 },
 "nbformat": 4,
 "nbformat_minor": 5
}
