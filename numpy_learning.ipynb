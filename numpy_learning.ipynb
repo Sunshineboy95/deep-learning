{
 "cells": [
  {
   "cell_type": "code",
   "execution_count": 2,
   "id": "1d82af6a",
   "metadata": {},
   "outputs": [],
   "source": [
    "import numpy as np\n",
    "\n"
   ]
  },
  {
   "cell_type": "markdown",
   "id": "d01b86f1",
   "metadata": {},
   "source": [
    "1. 创建数组\n",
    "1.1 使用ones,empty,zero生成数组"
   ]
  },
  {
   "cell_type": "code",
   "execution_count": 3,
   "id": "afdbc5ec",
   "metadata": {},
   "outputs": [
    {
     "data": {
      "text/plain": [
       "array([[1., 1., 1.],\n",
       "       [1., 1., 1.]])"
      ]
     },
     "execution_count": 3,
     "metadata": {},
     "output_type": "execute_result"
    }
   ],
   "source": [
    "np.ones(shape=[2,3])"
   ]
  },
  {
   "cell_type": "code",
   "execution_count": 4,
   "id": "8262860a",
   "metadata": {},
   "outputs": [
    {
     "data": {
      "text/plain": [
       "array([[0, 0, 0],\n",
       "       [0, 0, 0]])"
      ]
     },
     "execution_count": 4,
     "metadata": {},
     "output_type": "execute_result"
    }
   ],
   "source": [
    "np.zeros(shape=[2,3],dtype=int)"
   ]
  },
  {
   "cell_type": "code",
   "execution_count": 5,
   "id": "50aa77e9",
   "metadata": {},
   "outputs": [
    {
     "data": {
      "text/plain": [
       "array([[6.90745567e-310, 4.86061387e-316, 0.00000000e+000,\n",
       "        0.00000000e+000],\n",
       "       [2.22809558e-312, 5.93416138e-038, 6.48678806e+169,\n",
       "        4.05313834e+174],\n",
       "       [6.59451932e-066, 2.00493655e-076, 1.95248304e+160,\n",
       "        4.09071250e-037]])"
      ]
     },
     "execution_count": 5,
     "metadata": {},
     "output_type": "execute_result"
    }
   ],
   "source": [
    "np.empty(shape=[3,4])"
   ]
  },
  {
   "cell_type": "markdown",
   "id": "8c791d8b",
   "metadata": {},
   "source": [
    "1.2 使用linspace,arange生成数组\n"
   ]
  },
  {
   "cell_type": "code",
   "execution_count": 12,
   "id": "98d9c723",
   "metadata": {},
   "outputs": [
    {
     "data": {
      "text/plain": [
       "array([  0.        ,  14.28571429,  28.57142857,  42.85714286,\n",
       "        57.14285714,  71.42857143,  85.71428571, 100.        ])"
      ]
     },
     "execution_count": 12,
     "metadata": {},
     "output_type": "execute_result"
    }
   ],
   "source": [
    "np.linspace(0,100,8) # 左闭右闭，步长\n",
    "#np.arange(0,100,8)"
   ]
  },
  {
   "cell_type": "code",
   "execution_count": 13,
   "id": "24e53bb6",
   "metadata": {},
   "outputs": [
    {
     "data": {
      "text/plain": [
       "array([ 0,  8, 16, 24, 32, 40, 48, 56, 64, 72, 80, 88, 96])"
      ]
     },
     "execution_count": 13,
     "metadata": {},
     "output_type": "execute_result"
    }
   ],
   "source": [
    "np.arange(0,100,8)"
   ]
  },
  {
   "cell_type": "markdown",
   "id": "fbfc4633",
   "metadata": {},
   "source": [
    "1.3 生成某种函数分布的数组"
   ]
  },
  {
   "cell_type": "code",
   "execution_count": 15,
   "id": "d7ed8a3c",
   "metadata": {},
   "outputs": [
    {
     "data": {
      "text/plain": [
       "array([-0.63318046, -1.55466061, -2.9831026 , -2.19968573, -1.1851955 ,\n",
       "        0.16829577, -1.53466117, -0.6438978 , -3.51011324, -0.57333915,\n",
       "       -1.71915415,  0.37828815, -1.15530444, -0.85862673, -1.12455346,\n",
       "       -0.18530622,  0.1905044 ,  1.43425224, -4.17458293,  0.11319654,\n",
       "       -1.2970849 , -1.95063573, -0.92437131, -1.48885255, -0.65603931,\n",
       "       -2.16566819, -2.95373397,  0.8350116 ,  0.43486954, -0.85815183,\n",
       "       -0.57946631,  0.26969565, -0.05040913, -0.27645352, -0.16702733,\n",
       "       -2.97642419, -1.38758044, -1.41197695, -2.05152255, -1.16654277,\n",
       "       -1.55208541, -0.86345294, -0.64728338, -0.93770549,  1.23415722,\n",
       "        1.70391159, -0.09908855, -1.34830432,  0.04302596, -1.71996759,\n",
       "        0.53078303, -1.54559557, -0.84192598, -0.73114383, -0.93600166,\n",
       "       -1.75482767, -2.85485987, -1.50527858, -0.652396  , -0.11136764,\n",
       "       -1.59183403, -1.24203602, -0.68897746,  0.11659021, -1.32494604,\n",
       "       -2.05301582, -0.04692128, -1.15551604, -1.60568858, -0.81043911,\n",
       "        0.55923112, -0.744461  ,  0.35541526,  0.26914939,  0.41990568,\n",
       "       -1.71402567,  0.04466238, -1.58961918,  0.22808507, -1.23822901,\n",
       "       -2.51444369, -0.34105322, -3.2288631 ,  1.11255944, -0.18737503,\n",
       "       -0.5402406 , -0.64460926, -0.54249776, -0.48117631, -1.09829845,\n",
       "       -2.57966561, -0.18591974, -1.57512559, -0.71646655, -1.13353294,\n",
       "       -1.03111785,  0.78565768, -1.20600687, -1.24417563, -0.94770531])"
      ]
     },
     "execution_count": 15,
     "metadata": {},
     "output_type": "execute_result"
    }
   ],
   "source": [
    "# 均匀分布\n",
    "#np.random.uniform(-1,1,100)\n",
    "#正态分布\n",
    "np.random.normal(-1,1,100)"
   ]
  },
  {
   "cell_type": "markdown",
   "id": "5427c75e",
   "metadata": {},
   "source": [
    "2.索引\n",
    "一维数组\n",
    "arr[]\n",
    "二维数组\n",
    "arr[][]"
   ]
  },
  {
   "cell_type": "markdown",
   "id": "1ab0546d",
   "metadata": {},
   "source": [
    "3.类型转换\n",
    "3.1 numpy&&tersor类型转换\n",
    "3.2  numpy&&list转换"
   ]
  },
  {
   "cell_type": "code",
   "execution_count": 23,
   "id": "95044483",
   "metadata": {},
   "outputs": [
    {
     "name": "stdout",
     "output_type": "stream",
     "text": [
      "[[6.90745567e-310 4.86061387e-316 0.00000000e+000 0.00000000e+000]\n",
      " [2.22809558e-312 5.93416138e-038 6.48678806e+169 4.05313834e+174]\n",
      " [6.59451932e-066 2.00493655e-076 1.95248304e+160 4.09071250e-037]]\n",
      "tensor([[6.9075e-310, 4.8606e-316,  0.0000e+00,  0.0000e+00],\n",
      "        [2.2281e-312,  5.9342e-38, 6.4868e+169, 4.0531e+174],\n",
      "        [ 6.5945e-66,  2.0049e-76, 1.9525e+160,  4.0907e-37]],\n",
      "       dtype=torch.float64)\n",
      "[[6.90745567e-310 4.86061387e-316 0.00000000e+000 0.00000000e+000]\n",
      " [2.22809558e-312 5.93416138e-038 6.48678806e+169 4.05313834e+174]\n",
      " [6.59451932e-066 2.00493655e-076 1.95248304e+160 4.09071250e-037]]\n"
     ]
    }
   ],
   "source": [
    "import numpy as np\n",
    "import torch\n",
    "arr=np.empty(shape=[3,4])\n",
    "print(arr)\n",
    "torch_arr=torch.from_numpy(arr)\n",
    "print(torch_arr)\n",
    "arr1=torch_arr.numpy()\n",
    "print(arr1)"
   ]
  },
  {
   "cell_type": "code",
   "execution_count": 25,
   "id": "85ef5fe4",
   "metadata": {},
   "outputs": [
    {
     "name": "stdout",
     "output_type": "stream",
     "text": [
      "[[1, 2], [3, 5], [4, 7]]\n",
      "[[1 2]\n",
      " [3 5]\n",
      " [4 7]]\n",
      "[[1, 2], [3, 5], [4, 7]]\n"
     ]
    }
   ],
   "source": [
    "list1=[[1,2],[3,5],[4,7]]\n",
    "print(list1)\n",
    "arr1=np.array(list1)\n",
    "print(arr1)\n",
    "list2=arr1.tolist()\n",
    "print(list2)"
   ]
  },
  {
   "cell_type": "markdown",
   "id": "4cecdf6b",
   "metadata": {},
   "source": [
    "4.维度变换"
   ]
  },
  {
   "cell_type": "code",
   "execution_count": 31,
   "id": "7349ebb8",
   "metadata": {},
   "outputs": [
    {
     "name": "stdout",
     "output_type": "stream",
     "text": [
      "[[ 0.16941484 -1.7731076   0.564812  ]\n",
      " [-1.92499514 -1.45349825  0.18814635]]\n"
     ]
    },
    {
     "data": {
      "text/plain": [
       "array([[ 0.16941484, -1.7731076 ],\n",
       "       [ 0.564812  , -1.92499514],\n",
       "       [-1.45349825,  0.18814635]])"
      ]
     },
     "execution_count": 31,
     "metadata": {},
     "output_type": "execute_result"
    }
   ],
   "source": [
    "data1=np.random.normal(0,1 ,size=(2,3))\n",
    "print(data1)\n",
    "data1.reshape((3,2))"
   ]
  }
 ],
 "metadata": {
  "kernelspec": {
   "display_name": "Python 3.8.15 ('pytorch')",
   "language": "python",
   "name": "python3"
  },
  "language_info": {
   "codemirror_mode": {
    "name": "ipython",
    "version": 3
   },
   "file_extension": ".py",
   "mimetype": "text/x-python",
   "name": "python",
   "nbconvert_exporter": "python",
   "pygments_lexer": "ipython3",
   "version": "3.8.15"
  },
  "vscode": {
   "interpreter": {
    "hash": "b4d69625b88f2847eb79b02e6eb3cb5d56c210b9c62c567644f6ff06f77938dd"
   }
  }
 },
 "nbformat": 4,
 "nbformat_minor": 5
}
