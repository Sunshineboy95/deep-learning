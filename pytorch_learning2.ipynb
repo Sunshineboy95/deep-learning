{
 "cells": [
  {
   "cell_type": "code",
   "execution_count": 64,
   "id": "1d82af6a",
   "metadata": {},
   "outputs": [
    {
     "name": "stdout",
     "output_type": "stream",
     "text": [
      "Files already downloaded and verified\n",
      "Files already downloaded and verified\n",
      "tensor([[[0.6706, 0.6549, 0.6549,  ..., 0.1843, 0.1843, 0.1686],\n",
      "         [0.6784, 0.6627, 0.6627,  ..., 0.1922, 0.1922, 0.1843],\n",
      "         [0.6941, 0.6784, 0.6706,  ..., 0.2000, 0.2000, 0.1843],\n",
      "         ...,\n",
      "         [0.1373, 0.0667, 0.1216,  ..., 0.6941, 0.5373, 0.4353],\n",
      "         [0.0902, 0.0118, 0.0118,  ..., 0.7804, 0.7490, 0.6392],\n",
      "         [0.0745, 0.1216, 0.0667,  ..., 0.6392, 0.7020, 0.7882]],\n",
      "\n",
      "        [[0.7961, 0.7804, 0.7804,  ..., 0.3647, 0.3647, 0.3490],\n",
      "         [0.7961, 0.7804, 0.7804,  ..., 0.3725, 0.3725, 0.3647],\n",
      "         [0.7961, 0.7804, 0.7804,  ..., 0.3804, 0.3804, 0.3647],\n",
      "         ...,\n",
      "         [0.2471, 0.1608, 0.1922,  ..., 0.7020, 0.5451, 0.4353],\n",
      "         [0.2000, 0.1137, 0.0902,  ..., 0.7882, 0.7569, 0.6392],\n",
      "         [0.1922, 0.2157, 0.1373,  ..., 0.6392, 0.7020, 0.7882]],\n",
      "\n",
      "        [[0.8980, 0.8824, 0.8824,  ..., 0.6157, 0.6157, 0.6000],\n",
      "         [0.8902, 0.8745, 0.8745,  ..., 0.6235, 0.6235, 0.6078],\n",
      "         [0.8745, 0.8588, 0.8588,  ..., 0.6157, 0.6157, 0.6000],\n",
      "         ...,\n",
      "         [0.2941, 0.2078, 0.2392,  ..., 0.6157, 0.4980, 0.4275],\n",
      "         [0.2471, 0.1608, 0.1373,  ..., 0.7176, 0.7176, 0.6392],\n",
      "         [0.2314, 0.2627, 0.1922,  ..., 0.5922, 0.6706, 0.7725]]]) 8\n",
      "ship\n"
     ]
    },
    {
     "data": {
      "image/png": "[encoded data removed]",
      "text/plain": [
       "<PIL.Image.Image image mode=RGB size=100x100>"
      ]
     },
     "execution_count": 64,
     "metadata": {},
     "output_type": "execute_result"
    }
   ],
   "source": [
    "import numpy as np\n",
    "import torch\n",
    "import torchvision \n",
    "import torchvision.transforms as transforms\n",
    "from torchvision import datasets\n",
    "from torchvision.transforms import ToTensor\n",
    "from torch.utils.data import DataLoader\n",
    "from torchvision.transforms import ToPILImage\n",
    "\n",
    "show=ToPILImage()\n",
    "\n",
    "transform = transforms.Compose([\n",
    "        transforms.ToTensor(), # 转为Tensor\n",
    "        transforms.Normalize((0.5, 0.5, 0.5), (0.5, 0.5, 0.5)), # 归一化\n",
    "                             ])\n",
    "#加载数据\n",
    "#训练集\n",
    "trainset=datasets.CIFAR10(\n",
    "    root='/home/yg/work/code/pytorch_learning',\n",
    "    train= True,\n",
    "    download=True,\n",
    "    transform=transform\n",
    ")\n",
    "train_loader=DataLoader(trainset,batch_size=4,shuffle=True,num_workers=2)\n",
    "\n",
    "#测试集\n",
    "testset =datasets.CIFAR10(\n",
    "    '/home/yg/work/code/pytorch_learning',\n",
    "    train=False,\n",
    "    download=True,\n",
    "    transform=transform\n",
    ")\n",
    "test_loader=DataLoader(testset,batch_size=4,shuffle=False,num_workers=2)\n",
    "\n",
    "classes = ('plane', 'car', 'bird', 'cat',\n",
    "           'deer', 'dog', 'frog', 'horse', 'ship', 'truck')\n",
    "\n",
    "(data, label) = trainset[100]\n",
    "print(data,label)\n",
    "print(classes[label])\n",
    "show((data + 1) / 2).resize((100, 100))"
   ]
  },
  {
   "cell_type": "code",
   "execution_count": null,
   "id": "afdbc5ec",
   "metadata": {},
   "outputs": [],
   "source": []
  },
  {
   "cell_type": "code",
   "execution_count": null,
   "id": "8262860a",
   "metadata": {},
   "outputs": [],
   "source": []
  }
 ],
 "metadata": {
  "kernelspec": {
   "display_name": "Python 3 (ipykernel)",
   "language": "python",
   "name": "python3"
  },
  "language_info": {
   "codemirror_mode": {
    "name": "ipython",
    "version": 3
   },
   "file_extension": ".py",
   "mimetype": "text/x-python",
   "name": "python",
   "nbconvert_exporter": "python",
   "pygments_lexer": "ipython3",
   "version": "3.8.15"
  }
 },
 "nbformat": 4,
 "nbformat_minor": 5
}
